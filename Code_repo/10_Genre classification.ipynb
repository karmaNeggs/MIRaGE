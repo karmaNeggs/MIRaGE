{
 "cells": [
  {
   "cell_type": "markdown",
   "metadata": {},
   "source": [
    "## 1. Convert mp3 to wav"
   ]
  },
  {
   "cell_type": "code",
   "execution_count": null,
   "metadata": {},
   "outputs": [],
   "source": [
    "#moved\n",
    "import librosa\n",
    "import pandas as pd\n",
    "import matplotlib.pyplot as plt\n",
    "from IPython.display import Audio\n",
    "from librosa import display\n",
    "import numpy as np\n",
    "import os\n",
    "import seaborn as sns\n",
    "from pathlib import Path\n",
    "\n",
    "from pydub import AudioSegment"
   ]
  },
  {
   "cell_type": "code",
   "execution_count": null,
   "metadata": {},
   "outputs": [],
   "source": []
  },
  {
   "cell_type": "code",
   "execution_count": null,
   "metadata": {},
   "outputs": [],
   "source": [
    "#moved\n",
    "\n",
    "data_folder = Path(\"E:/DS/Projects/tunes_repo/MIRaGE/Song_repo/playlists_by_genres_wav\")\n",
    "\n",
    "music_list = os.listdir(data_folder / 'playlists_by_genres')\n",
    "music_wav = \"E:/DS/Projects/tunes/Song_repo/playlists_by_genres_wav\""
   ]
  },
  {
   "cell_type": "markdown",
   "metadata": {},
   "source": [
    "Extract features:\n",
    "tempo\n",
    "spec_cent\n",
    "spec_bw\n",
    "rolloff\n",
    "zcr\n",
    "chroma_cqt\n",
    "genre\n"
   ]
  },
  {
   "cell_type": "markdown",
   "metadata": {},
   "source": [
    "## Prepare raw dataset"
   ]
  },
  {
   "cell_type": "code",
   "execution_count": null,
   "metadata": {},
   "outputs": [],
   "source": [
    "data = pd.DataFrame()\n",
    "\n",
    "for song in music_list:\n",
    "\n",
    "    curr_track = music_wav + \"/\" + str(song)\n",
    "    y, sr = librosa.load(curr_track)\n",
    "    \n",
    "    i = 0\n",
    "    while i < (len(y)-64001):\n",
    "        start = i\n",
    "        end = i+64000\n",
    "        segment = y[start:end]\n",
    "        \n",
    "        Genre = song.split('.')[0]\n",
    "                        \n",
    "        tempo, beats = librosa.beat.beat_track(y=segment, sr=sr)\n",
    "        spec_cent = np.median(librosa.feature.spectral_centroid(y=segment, sr=sr))\n",
    "        spec_bw = np.median(librosa.feature.spectral_bandwidth(y=segment, sr=sr))\n",
    "        rolloff = np.median(librosa.feature.spectral_rolloff(y=segment, sr=sr))\n",
    "        zcr = np.median(librosa.feature.zero_crossing_rate(segment))\n",
    "        \n",
    "        try:\n",
    "            chroma = librosa.feature.chroma_cqt(segment,sr)\n",
    "        except:\n",
    "            chroma = np.zeros(1512).reshape((12,126))\n",
    "            \n",
    "        chroma_median = []\n",
    "        for c in chroma.reshape(126,12):\n",
    "            chroma_median.append(np.median(c))\n",
    "            \n",
    "        beat_features = np.array(chroma_median)\n",
    "            \n",
    "        df_list = [Genre, tempo, spec_cent, spec_bw, rolloff, zcr, beat_features]\n",
    "        data = data.append(pd.Series(df_list),ignore_index=True)\n",
    "        \n",
    "        i = i+64000"
   ]
  },
  {
   "cell_type": "markdown",
   "metadata": {},
   "source": [
    "#### Expand cqt array to columns"
   ]
  },
  {
   "cell_type": "code",
   "execution_count": null,
   "metadata": {},
   "outputs": [],
   "source": [
    "col_list = []\n",
    "for i in range(1, data.beat_features[0].shape[0]+1):\n",
    "    col_list.append(\"cqt_\"+str(i))\n",
    "    \n",
    "df = data.beat_features.apply(pd.Series)\n",
    "df.columns = col_list\n",
    "\n",
    "\n",
    "#append cqt feature columns to data\n",
    "\n",
    "data = pd.concat([data,df], axis=1)\n",
    "data.drop(columns = ['beat_features'], inplace = True)"
   ]
  },
  {
   "cell_type": "code",
   "execution_count": null,
   "metadata": {},
   "outputs": [],
   "source": [
    "feature_list = data"
   ]
  },
  {
   "cell_type": "markdown",
   "metadata": {},
   "source": [
    "#### Compress CQT to show median frequencies in selected snippet"
   ]
  },
  {
   "cell_type": "code",
   "execution_count": null,
   "metadata": {},
   "outputs": [],
   "source": [
    "feature_list['OA_spec'] = feature_list.drop(columns = ['tempo','spec_cent','spec_bw','rolloff','zcr']).median(axis = 1, skipna = True)\n",
    "feature_list = feature_list[['genre','tempo','spec_cent','spec_bw','rolloff','zcr','OA_spec']]"
   ]
  },
  {
   "cell_type": "markdown",
   "metadata": {},
   "source": [
    "#### Understanding Variables interdependence"
   ]
  },
  {
   "cell_type": "code",
   "execution_count": null,
   "metadata": {},
   "outputs": [],
   "source": [
    "sns.pairplot(feature_list)"
   ]
  },
  {
   "cell_type": "code",
   "execution_count": null,
   "metadata": {},
   "outputs": [],
   "source": [
    "#Check relationship with Genre\n",
    "\n",
    "fig = plt.figure(figsize = (20,20))\n",
    "\n",
    "ax = fig.add_subplot(6,3,1)\n",
    "feature_list.groupby('genre').tempo.median().plot.bar()\n",
    "\n",
    "ax = fig.add_subplot(6,3,2)\n",
    "feature_list.groupby('genre').spec_cent.median().plot.bar()\n",
    "\n",
    "ax = fig.add_subplot(6,3,3)\n",
    "feature_list.groupby('genre').spec_bw.median().plot.bar()\n",
    "\n",
    "ax = fig.add_subplot(6,3,4)\n",
    "feature_list.groupby('genre').rolloff.median().plot.bar()\n",
    "\n",
    "ax = fig.add_subplot(6,3,5)\n",
    "feature_list.groupby('genre').zcr.mean().plot.bar()\n",
    "\n",
    "ax = fig.add_subplot(6,3,6)\n",
    "feature_list.groupby('genre').OA_spec.mean().plot.bar()\n",
    "\n",
    "fig.subplots_adjust(hspace=0.5)"
   ]
  },
  {
   "cell_type": "markdown",
   "metadata": {},
   "source": [
    "#### Classification using Keras sequential network"
   ]
  },
  {
   "cell_type": "code",
   "execution_count": null,
   "metadata": {},
   "outputs": [],
   "source": [
    "from sklearn.model_selection import train_test_split\n",
    "from sklearn.preprocessing import LabelEncoder, StandardScaler\n",
    "\n",
    "from keras import models\n",
    "from keras import layers"
   ]
  },
  {
   "cell_type": "code",
   "execution_count": null,
   "metadata": {},
   "outputs": [],
   "source": [
    "ftrs = feature_list.drop(columns = ['genre'])\n",
    "Y = feature_list[['genre']]\n",
    "\n",
    "scaler = StandardScaler()\n",
    "X = scaler.fit_transform(np.array(ftrs, dtype = float))\n",
    "\n",
    "encoder = LabelEncoder()\n",
    "y = encoder.fit_transform(Y)\n",
    "\n",
    "X_train, X_test, y_train, y_test = train_test_split(X, y, test_size=0.3)"
   ]
  },
  {
   "cell_type": "code",
   "execution_count": null,
   "metadata": {},
   "outputs": [],
   "source": [
    "model = models.Sequential()\n",
    "model.add(layers.Dense(264, activation='relu', input_shape=(X_train.shape[1],)))\n",
    "\n",
    "model.add(layers.Dense(128, activation='relu'))\n",
    "\n",
    "model.add(layers.Dense(64, activation='relu'))\n",
    "\n",
    "model.add(layers.Dense(8, activation='softmax'))\n",
    "\n",
    "model.compile(optimizer='adam',\n",
    "              loss='sparse_categorical_crossentropy',\n",
    "              metrics=['accuracy'])"
   ]
  },
  {
   "cell_type": "code",
   "execution_count": null,
   "metadata": {},
   "outputs": [],
   "source": [
    "feature_training = model.fit(X_train,\n",
    "                    y_train,\n",
    "                    epochs=30,\n",
    "                    batch_size=128)"
   ]
  },
  {
   "cell_type": "code",
   "execution_count": null,
   "metadata": {},
   "outputs": [],
   "source": [
    "test_loss, test_acc = model.evaluate(X_test,y_test)\n",
    "print('test_acc: ',test_acc)"
   ]
  },
  {
   "cell_type": "code",
   "execution_count": null,
   "metadata": {},
   "outputs": [],
   "source": [
    "predictions = model.predict(X_test)"
   ]
  },
  {
   "cell_type": "markdown",
   "metadata": {},
   "source": [
    "#### Understanding variable importances learned by model"
   ]
  },
  {
   "cell_type": "code",
   "execution_count": null,
   "metadata": {},
   "outputs": [],
   "source": [
    "import shap\n",
    "explainer = shap.DeepExplainer(model, X_train[:1000])\n",
    "shap_values = explainer.shap_values(X_test[:1000])\n",
    "\n",
    "shap.summary_plot(shap_values, X_test)"
   ]
  },
  {
   "cell_type": "code",
   "execution_count": null,
   "metadata": {},
   "outputs": [],
   "source": [
    "filename = 'genre_detector.sav'\n",
    "pickle.dump(model, open(filename, 'wb'))"
   ]
  }
 ],
 "metadata": {
  "kernelspec": {
   "display_name": "Python 3",
   "language": "python",
   "name": "python3"
  },
  "language_info": {
   "codemirror_mode": {
    "name": "ipython",
    "version": 3
   },
   "file_extension": ".py",
   "mimetype": "text/x-python",
   "name": "python",
   "nbconvert_exporter": "python",
   "pygments_lexer": "ipython3",
   "version": "3.7.1"
  }
 },
 "nbformat": 4,
 "nbformat_minor": 2
}
