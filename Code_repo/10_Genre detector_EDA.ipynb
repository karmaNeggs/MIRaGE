{
 "cells": [
  {
   "cell_type": "code",
   "execution_count": 40,
   "metadata": {},
   "outputs": [],
   "source": [
    "from sklearn.preprocessing import LabelEncoder, StandardScaler \n",
    "import pickle\n",
    "import pandas as pd\n",
    "import numpy as np\n",
    "import os\n",
    "\n",
    "import librosa\n",
    "import matplotlib.pyplot as plt\n",
    "from IPython.display import Audio\n",
    "from librosa import display\n",
    "from pathlib import Path\n",
    "\n",
    "from pydub import AudioSegment\n",
    "#import keras"
   ]
  },
  {
   "cell_type": "code",
   "execution_count": 41,
   "metadata": {},
   "outputs": [],
   "source": [
    "nirvana_folder = \"E:/DS/Projects/tunes/Song_repo/Nirvana\"\n",
    "nirvana_wav = \"E:/DS/Projects/tunes/Song_repo/Nirvana_wav\"\n",
    "\n",
    "Nirvana_music_list = os.listdir(nirvana_wav)"
   ]
  },
  {
   "cell_type": "code",
   "execution_count": 42,
   "metadata": {},
   "outputs": [
    {
     "data": {
      "text/plain": [
       "['Daniel Castro - Ill Play The Blues For You.wav',\n",
       " 'martin-garrix-animals-original-mix (online-audio-converter.com).wav',\n",
       " 'Nirvana - Bleach - 01 - Blew.mp3',\n",
       " 'Nirvana - Bleach - 02 - Floyd The Barber.mp3',\n",
       " 'Nirvana - Bleach - 03 - About A Girl.mp3',\n",
       " 'Nirvana - Bleach - 04 - School.mp3',\n",
       " 'Nirvana - Bleach - 05 - Love Buzz.mp3',\n",
       " 'Nirvana - Bleach - 06 - Paper Cuts.mp3',\n",
       " 'Nirvana - Bleach - 07 - Negative Creep.mp3',\n",
       " 'Nirvana - Bleach - 08 - Scoff.mp3',\n",
       " 'Nirvana - Bleach - 09 - Swap Meet.mp3',\n",
       " 'Nirvana - Bleach - 10 - Mr. Moustache.mp3',\n",
       " 'Nirvana - Bleach - 11 - Sifting.mp3',\n",
       " 'Nirvana - Bleach - 12 - Big Cheese.mp3',\n",
       " 'Nirvana - Bleach - 13 - Downer.mp3',\n",
       " 'Nirvana - From The Muddy Banks Of The Wishkah - 01 - Intro.mp3',\n",
       " 'Nirvana - From The Muddy Banks Of The Wishkah - 02 - School.mp3',\n",
       " 'Nirvana - From The Muddy Banks Of The Wishkah - 03 - Drain You.mp3',\n",
       " 'Nirvana - From The Muddy Banks Of The Wishkah - 04 - Aneurysm.mp3',\n",
       " 'Nirvana - From The Muddy Banks Of The Wishkah - 05 - Smells Like Teen Spirit.mp3',\n",
       " 'Nirvana - From The Muddy Banks Of The Wishkah - 06 - Been A Son.mp3',\n",
       " 'Nirvana - From The Muddy Banks Of The Wishkah - 07 - Lithium.mp3',\n",
       " 'Nirvana - From The Muddy Banks Of The Wishkah - 08 - Sliver.mp3',\n",
       " 'Nirvana - From The Muddy Banks Of The Wishkah - 09 - Spank Thru.mp3',\n",
       " 'Nirvana - From The Muddy Banks Of The Wishkah - 10 - Scentless Apprentice.mp3',\n",
       " 'Nirvana - From The Muddy Banks Of The Wishkah - 11 - Heart-shaped Box.mp3',\n",
       " 'Nirvana - From The Muddy Banks Of The Wishkah - 12 - Milk It.mp3',\n",
       " 'Nirvana - From The Muddy Banks Of The Wishkah - 13 - Negative Creep.mp3',\n",
       " 'Nirvana - From The Muddy Banks Of The Wishkah - 14 - Polly.mp3',\n",
       " 'Nirvana - From The Muddy Banks Of The Wishkah - 15 - Breed.mp3',\n",
       " \"Nirvana - From The Muddy Banks Of The Wishkah - 16 - Tourette's.mp3\",\n",
       " 'Nirvana - From The Muddy Banks Of The Wishkah - 17 - Blew.mp3',\n",
       " 'Nirvana - In Utero - 01 - Serve The Servants.mp3',\n",
       " 'Nirvana - In Utero - 02 - Scentless Apprentice.mp3',\n",
       " 'Nirvana - In Utero - 04 - Rape Me.mp3',\n",
       " 'Nirvana - In Utero - 05 - Frances Farmer Will Have Her Revenge On Seattle.mp3',\n",
       " 'Nirvana - In Utero - 06 - Dumb.mp3',\n",
       " 'Nirvana - In Utero - 07 - Very Ape.mp3',\n",
       " 'Nirvana - In Utero - 08 - Milk It.mp3',\n",
       " 'Nirvana - In Utero - 09 - Pennyroyal Tea.mp3',\n",
       " 'Nirvana - In Utero - 10 - Radio Friendly Unit Shifter.mp3',\n",
       " \"Nirvana - In Utero - 11 - Tourette's.mp3\",\n",
       " 'Nirvana - In Utero - 12 - All Apologies - Gallons Of Rubbing Alcohol Flow Through The Strip.mp3',\n",
       " 'Nirvana - Incesticide - 01 - Dive.mp3',\n",
       " 'Nirvana - Incesticide - 02 - Sliver.mp3',\n",
       " 'Nirvana - Incesticide - 03 - Stain.mp3',\n",
       " 'Nirvana - Incesticide - 04 - Been A Son.mp3',\n",
       " 'Nirvana - Incesticide - 05 - Turnaround.mp3',\n",
       " \"Nirvana - Incesticide - 06 - Molly's Lips.mp3\",\n",
       " 'Nirvana - Incesticide - 07 - Son Of A Gun.mp3',\n",
       " 'Nirvana - Incesticide - 08 - Polly.mp3',\n",
       " 'Nirvana - Incesticide - 09 - Beeswax.mp3',\n",
       " 'Nirvana - Incesticide - 10 - Downer.mp3',\n",
       " 'Nirvana - Incesticide - 11 - Mexican Seafood.mp3',\n",
       " 'Nirvana - Incesticide - 12 - Hairspray Queen.mp3',\n",
       " 'Nirvana - Incesticide - 13 - Aero Zeppelin.mp3',\n",
       " 'Nirvana - Incesticide - 14 - Big Long Now.mp3',\n",
       " 'Nirvana - Incesticide - 15 - Aneurysm.mp3',\n",
       " 'Nirvana - Nevermind - 01 - Smells Like Teen Spirit.mp3',\n",
       " 'Nirvana - Nevermind - 02 - In Bloom.mp3',\n",
       " 'Nirvana - Nevermind - 03 - Come As You Are.mp3',\n",
       " 'Nirvana - Nevermind - 04 - Breed.mp3',\n",
       " 'Nirvana - Nevermind - 05 - Lithium.mp3',\n",
       " 'Nirvana - Nevermind - 06 - Polly.mp3',\n",
       " 'Nirvana - Nevermind - 07 - Territorial Pissings.mp3',\n",
       " 'Nirvana - Nevermind - 08 - Drain You.mp3',\n",
       " 'Nirvana - Nevermind - 09 - Lounge Act.mp3',\n",
       " 'Nirvana - Nevermind - 10 - Stay Away.mp3',\n",
       " 'Nirvana - Nevermind - 11 - On A Plain.mp3',\n",
       " 'Nirvana - Nevermind - 12 - Something In The Way.mp3',\n",
       " 'Nirvana - Unplugged In New York - 01 - About A Girl.mp3',\n",
       " 'Nirvana - Unplugged In New York - 02 - Come As You Are.mp3',\n",
       " \"Nirvana - Unplugged In New York - 03 - Jesus Doesn't Want Me For A Sunbeam.mp3\",\n",
       " 'Nirvana - Unplugged In New York - 04 - The Man Who Sold The World.mp3',\n",
       " 'Nirvana - Unplugged In New York - 05 - Pennyroyal Tea.mp3',\n",
       " 'Nirvana - Unplugged In New York - 06 - Dumb.mp3',\n",
       " 'Nirvana - Unplugged In New York - 07 - Polly.mp3',\n",
       " 'Nirvana - Unplugged In New York - 08 - On A Plain.mp3',\n",
       " 'Nirvana - Unplugged In New York - 09 - Something In The Way.mp3',\n",
       " 'Nirvana - Unplugged In New York - 10 - Plateau.mp3',\n",
       " 'Nirvana - Unplugged In New York - 11 - Oh, Me.mp3',\n",
       " 'Nirvana - Unplugged In New York - 12 - Lake Of Fire.mp3',\n",
       " 'Nirvana - Unplugged In New York - 13 - All Apologies.mp3',\n",
       " 'Nirvana - Unplugged In New York - 14 - Where Did You Sleep Last Night.mp3']"
      ]
     },
     "execution_count": 42,
     "metadata": {},
     "output_type": "execute_result"
    }
   ],
   "source": [
    "Nirvana_music_list"
   ]
  },
  {
   "cell_type": "code",
   "execution_count": 43,
   "metadata": {},
   "outputs": [],
   "source": [
    "#music_list = str(nirvana_wav) + \"/\" + str(Nirvana_music_list[0])\n",
    "music_list = Nirvana_music_list[1:2]"
   ]
  },
  {
   "cell_type": "code",
   "execution_count": 44,
   "metadata": {},
   "outputs": [
    {
     "data": {
      "text/plain": [
       "['martin-garrix-animals-original-mix (online-audio-converter.com).wav']"
      ]
     },
     "execution_count": 44,
     "metadata": {},
     "output_type": "execute_result"
    }
   ],
   "source": [
    "music_list"
   ]
  },
  {
   "cell_type": "code",
   "execution_count": 45,
   "metadata": {
    "scrolled": true
   },
   "outputs": [],
   "source": [
    "data = pd.DataFrame()\n",
    "\n",
    "for song in music_list:\n",
    "\n",
    "    curr_track = nirvana_wav + \"/\" + str(song)\n",
    "    y, sr = librosa.load(curr_track)\n",
    "    \n",
    "    i = 0\n",
    "    while i < (len(y)-64001):\n",
    "        start = i\n",
    "        end = i+64000\n",
    "        segment = y[start:end]\n",
    "                        \n",
    "        tempo, beats = librosa.beat.beat_track(y=segment, sr=sr)\n",
    "        spec_cent = np.median(librosa.feature.spectral_centroid(y=segment, sr=sr))\n",
    "        spec_bw = np.median(librosa.feature.spectral_bandwidth(y=segment, sr=sr))\n",
    "        rolloff = np.median(librosa.feature.spectral_rolloff(y=segment, sr=sr))\n",
    "        zcr = np.median(librosa.feature.zero_crossing_rate(segment))\n",
    "        \n",
    "        try:\n",
    "            chroma = librosa.feature.chroma_cqt(segment,sr)\n",
    "        except:\n",
    "            chroma = np.zeros(1512).reshape((12,126))\n",
    "            \n",
    "        chroma_median = []\n",
    "        for c in chroma.reshape(126,12):\n",
    "            chroma_median.append(np.median(c))\n",
    "            \n",
    "        beat_features = np.array(chroma_median)\n",
    "            \n",
    "        df_list = [tempo, spec_cent, spec_bw, rolloff, zcr, beat_features]\n",
    "        data = data.append(pd.Series(df_list),ignore_index=True)\n",
    "        \n",
    "        i = i+64000"
   ]
  },
  {
   "cell_type": "code",
   "execution_count": 46,
   "metadata": {},
   "outputs": [
    {
     "data": {
      "text/html": [
       "<div>\n",
       "<style scoped>\n",
       "    .dataframe tbody tr th:only-of-type {\n",
       "        vertical-align: middle;\n",
       "    }\n",
       "\n",
       "    .dataframe tbody tr th {\n",
       "        vertical-align: top;\n",
       "    }\n",
       "\n",
       "    .dataframe thead th {\n",
       "        text-align: right;\n",
       "    }\n",
       "</style>\n",
       "<table border=\"1\" class=\"dataframe\">\n",
       "  <thead>\n",
       "    <tr style=\"text-align: right;\">\n",
       "      <th></th>\n",
       "      <th>0</th>\n",
       "      <th>1</th>\n",
       "      <th>2</th>\n",
       "      <th>3</th>\n",
       "      <th>4</th>\n",
       "      <th>5</th>\n",
       "    </tr>\n",
       "  </thead>\n",
       "  <tbody>\n",
       "    <tr>\n",
       "      <th>0</th>\n",
       "      <td>129.199219</td>\n",
       "      <td>4421.058667</td>\n",
       "      <td>3225.427364</td>\n",
       "      <td>8925.512695</td>\n",
       "      <td>0.349609</td>\n",
       "      <td>[0.776113776905484, 0.6741895301269929, 0.5064...</td>\n",
       "    </tr>\n",
       "    <tr>\n",
       "      <th>1</th>\n",
       "      <td>129.199219</td>\n",
       "      <td>3782.154557</td>\n",
       "      <td>3253.434465</td>\n",
       "      <td>8451.782227</td>\n",
       "      <td>0.245605</td>\n",
       "      <td>[0.5560553983637235, 0.9000544441579901, 0.553...</td>\n",
       "    </tr>\n",
       "    <tr>\n",
       "      <th>2</th>\n",
       "      <td>129.199219</td>\n",
       "      <td>3273.539740</td>\n",
       "      <td>3211.410464</td>\n",
       "      <td>7784.252930</td>\n",
       "      <td>0.193848</td>\n",
       "      <td>[0.6958353523993848, 0.7362975960963025, 0.835...</td>\n",
       "    </tr>\n",
       "    <tr>\n",
       "      <th>3</th>\n",
       "      <td>129.199219</td>\n",
       "      <td>2831.371891</td>\n",
       "      <td>3002.648361</td>\n",
       "      <td>7159.790039</td>\n",
       "      <td>0.151123</td>\n",
       "      <td>[0.6857477850844081, 0.6148514415208819, 0.865...</td>\n",
       "    </tr>\n",
       "    <tr>\n",
       "      <th>4</th>\n",
       "      <td>129.199219</td>\n",
       "      <td>2568.904603</td>\n",
       "      <td>2670.017913</td>\n",
       "      <td>5743.981934</td>\n",
       "      <td>0.116211</td>\n",
       "      <td>[0.7132110971277774, 0.4840271098344161, 0.767...</td>\n",
       "    </tr>\n",
       "  </tbody>\n",
       "</table>\n",
       "</div>"
      ],
      "text/plain": [
       "            0            1            2            3         4  \\\n",
       "0  129.199219  4421.058667  3225.427364  8925.512695  0.349609   \n",
       "1  129.199219  3782.154557  3253.434465  8451.782227  0.245605   \n",
       "2  129.199219  3273.539740  3211.410464  7784.252930  0.193848   \n",
       "3  129.199219  2831.371891  3002.648361  7159.790039  0.151123   \n",
       "4  129.199219  2568.904603  2670.017913  5743.981934  0.116211   \n",
       "\n",
       "                                                   5  \n",
       "0  [0.776113776905484, 0.6741895301269929, 0.5064...  \n",
       "1  [0.5560553983637235, 0.9000544441579901, 0.553...  \n",
       "2  [0.6958353523993848, 0.7362975960963025, 0.835...  \n",
       "3  [0.6857477850844081, 0.6148514415208819, 0.865...  \n",
       "4  [0.7132110971277774, 0.4840271098344161, 0.767...  "
      ]
     },
     "execution_count": 46,
     "metadata": {},
     "output_type": "execute_result"
    }
   ],
   "source": [
    "data.head()"
   ]
  },
  {
   "cell_type": "code",
   "execution_count": 47,
   "metadata": {},
   "outputs": [],
   "source": [
    "data.columns = ['tempo', 'spec_cent', 'spec_bw', 'rolloff', 'zcr', 'beat_features']\n",
    "\n",
    "col_list = []\n",
    "for i in range(1, data.beat_features[0].shape[0]+1):\n",
    "    col_list.append(\"cqt_\"+str(i))\n",
    "    \n",
    "df = data.beat_features.apply(pd.Series)\n",
    "df.columns = col_list\n",
    "\n",
    "data = pd.concat([data,df], axis=1)\n",
    "\n",
    "data.drop(columns = ['beat_features'], inplace = True)"
   ]
  },
  {
   "cell_type": "code",
   "execution_count": 48,
   "metadata": {},
   "outputs": [],
   "source": [
    "feature_list = data\n",
    "feature_list.to_csv('EDM.csv')"
   ]
  },
  {
   "cell_type": "code",
   "execution_count": 18,
   "metadata": {},
   "outputs": [
    {
     "name": "stderr",
     "output_type": "stream",
     "text": [
      "C:\\ProgramData\\Anaconda3\\lib\\site-packages\\ipykernel_launcher.py:1: SettingWithCopyWarning: \n",
      "A value is trying to be set on a copy of a slice from a DataFrame.\n",
      "Try using .loc[row_indexer,col_indexer] = value instead\n",
      "\n",
      "See the caveats in the documentation: http://pandas.pydata.org/pandas-docs/stable/indexing.html#indexing-view-versus-copy\n",
      "  \"\"\"Entry point for launching an IPython kernel.\n"
     ]
    },
    {
     "ename": "ModuleNotFoundError",
     "evalue": "No module named 'keras'",
     "output_type": "error",
     "traceback": [
      "\u001b[1;31m---------------------------------------------------------------------------\u001b[0m",
      "\u001b[1;31mModuleNotFoundError\u001b[0m                       Traceback (most recent call last)",
      "\u001b[1;32m<ipython-input-18-fb60ae2f9319>\u001b[0m in \u001b[0;36m<module>\u001b[1;34m\u001b[0m\n\u001b[0;32m      8\u001b[0m \u001b[1;33m\u001b[0m\u001b[0m\n\u001b[0;32m      9\u001b[0m \u001b[0mfilename\u001b[0m \u001b[1;33m=\u001b[0m \u001b[1;34m'genre_detector.sav'\u001b[0m\u001b[1;33m\u001b[0m\u001b[1;33m\u001b[0m\u001b[0m\n\u001b[1;32m---> 10\u001b[1;33m \u001b[0mmodel\u001b[0m \u001b[1;33m=\u001b[0m \u001b[0mpickle\u001b[0m\u001b[1;33m.\u001b[0m\u001b[0mload\u001b[0m\u001b[1;33m(\u001b[0m\u001b[0mopen\u001b[0m\u001b[1;33m(\u001b[0m\u001b[0mfilename\u001b[0m\u001b[1;33m,\u001b[0m \u001b[1;34m'rb'\u001b[0m\u001b[1;33m)\u001b[0m\u001b[1;33m)\u001b[0m\u001b[1;33m\u001b[0m\u001b[1;33m\u001b[0m\u001b[0m\n\u001b[0m\u001b[0;32m     11\u001b[0m \u001b[1;33m\u001b[0m\u001b[0m\n\u001b[0;32m     12\u001b[0m \u001b[0mpredictions\u001b[0m \u001b[1;33m=\u001b[0m \u001b[0mmodel\u001b[0m\u001b[1;33m.\u001b[0m\u001b[0mpredict\u001b[0m\u001b[1;33m(\u001b[0m\u001b[0mX\u001b[0m\u001b[1;33m)\u001b[0m\u001b[1;33m\u001b[0m\u001b[1;33m\u001b[0m\u001b[0m\n",
      "\u001b[1;31mModuleNotFoundError\u001b[0m: No module named 'keras'"
     ]
    }
   ],
   "source": [
    "feature_list['OA_spec'] = feature_list.drop(columns = ['tempo','spec_cent','spec_bw','rolloff','zcr']).median(axis = 1, skipna = True)\n",
    "\n",
    "feature_list = feature_list[['tempo','spec_cent','spec_bw','rolloff','zcr','OA_spec']]\n",
    "ftrs = feature_list\n",
    "\n",
    "scaler = StandardScaler()\n",
    "X = scaler.fit_transform(np.array(ftrs, dtype = float))\n",
    "\n",
    "filename = 'genre_detector.sav'\n",
    "model = pickle.load(open(filename, 'rb'))\n",
    "\n",
    "predictions = model.predict(X)"
   ]
  },
  {
   "cell_type": "code",
   "execution_count": 31,
   "metadata": {
    "scrolled": true
   },
   "outputs": [],
   "source": [
    "genres = ['Country','EDM','Hip-Hop','Jazz','Pop','RnB','Rock','Trance']\n",
    "\n",
    "result_df = pd.DataFrame(predictions)\n",
    "result_df.columns = genres\n",
    "\n",
    "result = result_df.mean(axis = 0, skipna = True)"
   ]
  },
  {
   "cell_type": "code",
   "execution_count": 32,
   "metadata": {
    "scrolled": true
   },
   "outputs": [
    {
     "data": {
      "text/plain": [
       "Index(['Rock'], dtype='object')"
      ]
     },
     "execution_count": 32,
     "metadata": {},
     "output_type": "execute_result"
    }
   ],
   "source": [
    "result.loc[result == result.max()].index"
   ]
  },
  {
   "cell_type": "code",
   "execution_count": 33,
   "metadata": {},
   "outputs": [
    {
     "data": {
      "text/plain": [
       "<matplotlib.axes._subplots.AxesSubplot at 0x7f262458f588>"
      ]
     },
     "execution_count": 33,
     "metadata": {},
     "output_type": "execute_result"
    },
    {
     "data": {
      "image/png": "[encoded data removed]",
      "text/plain": [
       "<Figure size 432x288 with 1 Axes>"
      ]
     },
     "metadata": {
      "needs_background": "light"
     },
     "output_type": "display_data"
    }
   ],
   "source": [
    "result.sort_values(ascending = False).plot.bar()"
   ]
  }
 ],
 "metadata": {
  "kernelspec": {
   "display_name": "Python 3",
   "language": "python",
   "name": "python3"
  },
  "language_info": {
   "codemirror_mode": {
    "name": "ipython",
    "version": 3
   },
   "file_extension": ".py",
   "mimetype": "text/x-python",
   "name": "python",
   "nbconvert_exporter": "python",
   "pygments_lexer": "ipython3",
   "version": "3.7.1"
  }
 },
 "nbformat": 4,
 "nbformat_minor": 2
}
