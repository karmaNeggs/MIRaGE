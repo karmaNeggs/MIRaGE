{
 "cells": [
  {
   "cell_type": "markdown",
   "metadata": {},
   "source": [
    "## Convert from Youtube_link list to .wav\n",
    "configure link_list.csv for custom songs"
   ]
  },
  {
   "cell_type": "code",
   "execution_count": 18,
   "metadata": {},
   "outputs": [],
   "source": [
    "#from __future__ import unicode_literals\n",
    "import pandas as pd\n",
    "import youtube_dl\n",
    "import csv\n",
    "\n",
    "list_ = []\n",
    "\n",
    "with open('link_list_2.csv', 'r', encoding='mac_roman', newline='') as csvfile:\n",
    "    lines = csv.reader(csvfile, delimiter = ',', quotechar = '|')\n",
    "    for line in lines:\n",
    "        list_.append(line)\n"
   ]
  },
  {
   "cell_type": "code",
   "execution_count": 19,
   "metadata": {},
   "outputs": [],
   "source": [
    "import_list = pd.DataFrame(list_)\n",
    "import_list.columns = ['Key','Band','Title','Genre','Link']"
   ]
  },
  {
   "cell_type": "code",
   "execution_count": 20,
   "metadata": {
    "scrolled": true
   },
   "outputs": [],
   "source": [
    "def yt_to_wav(link,title_):\n",
    "    \n",
    "    title = title_\n",
    "\n",
    "    ydl_opts = {\n",
    "        'format': 'bestaudio/best',\n",
    "        'outtmpl': 'E:/DS/Projects/tunes_repo/MIRaGE/Song_repo/Mirage_wav/' + title +'.wav',\n",
    "        'postprocessors': [{\n",
    "            'key': 'FFmpegExtractAudio',\n",
    "            'preferredcodec': 'wav',\n",
    "            'preferredquality': '192',\n",
    "\n",
    "        }],\n",
    "    }\n",
    "    with youtube_dl.YoutubeDL(ydl_opts) as ydl:\n",
    "        ydl.download([link])"
   ]
  },
  {
   "cell_type": "code",
   "execution_count": 21,
   "metadata": {
    "scrolled": false
   },
   "outputs": [
    {
     "name": "stdout",
     "output_type": "stream",
     "text": [
      "[youtube] fm5gNUYFPs8: Downloading webpage\n",
      "[youtube] fm5gNUYFPs8: Downloading video info webpage\n",
      "[download] E:\\DS\\Projects\\tunes_repo\\MIRaGE\\Song_repo\\Mirage_wav\\God is an astronaut_Epitaph_progressive_metal.psychadelic_metal.wav has already been downloaded\n",
      "[download] 100% of 5.92MiB\n",
      "[ffmpeg] Post-process file E:\\DS\\Projects\\tunes_repo\\MIRaGE\\Song_repo\\Mirage_wav\\God is an astronaut_Epitaph_progressive_metal.psychadelic_metal.wav exists, skipping\n",
      "Converting to WavEpitaph\n",
      "[youtube] QEphsKl1g9M: Downloading webpage\n",
      "[youtube] QEphsKl1g9M: Downloading video info webpage\n",
      "[download] Destination: E:\\DS\\Projects\\tunes_repo\\MIRaGE\\Song_repo\\Mirage_wav\\God is an astronaut_Forever lost_progressive_metal.psychadelic_metal.wav\n",
      "[download] 100% of 6.13MiB in 00:19                  \n",
      "[ffmpeg] Post-process file E:\\DS\\Projects\\tunes_repo\\MIRaGE\\Song_repo\\Mirage_wav\\God is an astronaut_Forever lost_progressive_metal.psychadelic_metal.wav exists, skipping\n",
      "Converting to WavForever lost\n",
      "[youtube] Ad4T-j_bOVc: Downloading webpage\n",
      "[youtube] Ad4T-j_bOVc: Downloading video info webpage\n",
      "[download] Destination: E:\\DS\\Projects\\tunes_repo\\MIRaGE\\Song_repo\\Mirage_wav\\God is an astronaut_All is violent_progressive_metal.psychadelic_metal.wav\n",
      "[download] 100% of 3.89MiB in 00:16                  \n",
      "[ffmpeg] Post-process file E:\\DS\\Projects\\tunes_repo\\MIRaGE\\Song_repo\\Mirage_wav\\God is an astronaut_All is violent_progressive_metal.psychadelic_metal.wav exists, skipping\n",
      "Converting to WavAll is violent\n",
      "[youtube] dgc9g7OB6Jc: Downloading webpage\n",
      "[youtube] dgc9g7OB6Jc: Downloading video info webpage\n",
      "[download] Destination: E:\\DS\\Projects\\tunes_repo\\MIRaGE\\Song_repo\\Mirage_wav\\God is an astronaut_No return_progressive_metal.psychadelic_metal.wav\n",
      "[download] 100% of 6.76MiB in 00:17                   \n",
      "[ffmpeg] Post-process file E:\\DS\\Projects\\tunes_repo\\MIRaGE\\Song_repo\\Mirage_wav\\God is an astronaut_No return_progressive_metal.psychadelic_metal.wav exists, skipping\n",
      "Converting to WavNo return\n",
      "[youtube] y_NMIRatSSo: Downloading webpage\n",
      "[youtube] y_NMIRatSSo: Downloading video info webpage\n",
      "[download] Destination: E:\\DS\\Projects\\tunes_repo\\MIRaGE\\Song_repo\\Mirage_wav\\God is an astronaut_snowfall_progressive_metal.psychadelic_metal.wav\n",
      "[download] 100% of 6.16MiB in 00:12                  \n",
      "[ffmpeg] Post-process file E:\\DS\\Projects\\tunes_repo\\MIRaGE\\Song_repo\\Mirage_wav\\God is an astronaut_snowfall_progressive_metal.psychadelic_metal.wav exists, skipping\n",
      "Converting to Wavsnowfall\n",
      "[youtube] lDK9QqIzhwk: Downloading webpage\n",
      "[youtube] lDK9QqIzhwk: Downloading video info webpage\n",
      "[download] E:\\DS\\Projects\\tunes_repo\\MIRaGE\\Song_repo\\Mirage_wav\\Bon Jovi_Livin on a prayer_pop_rock.hard_rock.wav has already been downloaded\n",
      "[download] 100% of 3.71MiB\n",
      "[ffmpeg] Post-process file E:\\DS\\Projects\\tunes_repo\\MIRaGE\\Song_repo\\Mirage_wav\\Bon Jovi_Livin on a prayer_pop_rock.hard_rock.wav exists, skipping\n",
      "Converting to WavLivin on a prayer\n",
      "[youtube] 9SKFwtgUJHs: Downloading webpage\n",
      "[youtube] 9SKFwtgUJHs: Downloading video info webpage\n",
      "[download] E:\\DS\\Projects\\tunes_repo\\MIRaGE\\Song_repo\\Mirage_wav\\Bon Jovi_Its my life_pop_rock.hard_rock.wav has already been downloaded\n",
      "[download] 100% of 3.51MiB\n",
      "[ffmpeg] Post-process file E:\\DS\\Projects\\tunes_repo\\MIRaGE\\Song_repo\\Mirage_wav\\Bon Jovi_Its my life_pop_rock.hard_rock.wav exists, skipping\n",
      "Converting to WavIts my life\n",
      "[youtube] KrZHPOeOxQQ: Downloading webpage\n",
      "[youtube] KrZHPOeOxQQ: Downloading video info webpage\n",
      "[download] E:\\DS\\Projects\\tunes_repo\\MIRaGE\\Song_repo\\Mirage_wav\\Bon Jovi_bad name_pop_rock.hard_rock.wav has already been downloaded\n",
      "[download] 100% of 3.56MiB\n",
      "[ffmpeg] Correcting container in \"E:\\DS\\Projects\\tunes_repo\\MIRaGE\\Song_repo\\Mirage_wav\\Bon Jovi_bad name_pop_rock.hard_rock.wav\"\n",
      "[ffmpeg] Post-process file E:\\DS\\Projects\\tunes_repo\\MIRaGE\\Song_repo\\Mirage_wav\\Bon Jovi_bad name_pop_rock.hard_rock.wav exists, skipping\n",
      "Converting to Wavbad name\n",
      "[youtube] gNecdKd1IG4: Downloading webpage\n",
      "[youtube] gNecdKd1IG4: Downloading video info webpage\n",
      "[download] E:\\DS\\Projects\\tunes_repo\\MIRaGE\\Song_repo\\Mirage_wav\\Bon Jovi_Always_pop_rock.hard_rock.wav has already been downloaded\n",
      "[download] 100% of 4.62MiB\n",
      "[ffmpeg] Post-process file E:\\DS\\Projects\\tunes_repo\\MIRaGE\\Song_repo\\Mirage_wav\\Bon Jovi_Always_pop_rock.hard_rock.wav exists, skipping\n",
      "Converting to WavAlways\n"
     ]
    }
   ],
   "source": [
    "for i in range(0,len(import_list)-1):\n",
    "    yt_to_wav(import_list.Link[i],import_list.Key[i])\n",
    "    print(\"Converting to Wav\" + str(import_list.Title[i]))\n",
    "    "
   ]
  },
  {
   "cell_type": "markdown",
   "metadata": {},
   "source": [
    "## --------------------------------------------------------------.----------------------------------------------------------------"
   ]
  },
  {
   "cell_type": "markdown",
   "metadata": {},
   "source": [
    "## Convert from MP3 track on local storage to .wav"
   ]
  },
  {
   "cell_type": "code",
   "execution_count": null,
   "metadata": {},
   "outputs": [],
   "source": [
    "data_folder = Path(\"E:/DS/Projects/tunes_repo/MIRaGE/Song_repo/\")\n",
    "\n",
    "music_list = os.listdir(data_folder / 'Mirage_wav')\n",
    "music_folder = \"E:/DS/Projects/tunes_repo/MIRaGE/Song_repo//playlists_by_genres\"\n",
    "music_wav = \"E:/DS/Projects/tunes/Song_repo/playlists_by_genres_wav\""
   ]
  },
  {
   "cell_type": "code",
   "execution_count": null,
   "metadata": {},
   "outputs": [],
   "source": [
    "for song in music_list:\n",
    "    src = str(music_folder) + \"/\" + str(song)\n",
    "    dst = str(music_wav) + \"/\" + str(song)\n",
    "    # convert mp3 to wav                                                        \n",
    "    sound = AudioSegment.from_mp3(src)\n",
    "    sound.export(dst, format=\"wav\")"
   ]
  },
  {
   "cell_type": "code",
   "execution_count": null,
   "metadata": {},
   "outputs": [],
   "source": []
  }
 ],
 "metadata": {
  "kernelspec": {
   "display_name": "Python 3",
   "language": "python",
   "name": "python3"
  },
  "language_info": {
   "codemirror_mode": {
    "name": "ipython",
    "version": 3
   },
   "file_extension": ".py",
   "mimetype": "text/x-python",
   "name": "python",
   "nbconvert_exporter": "python",
   "pygments_lexer": "ipython3",
   "version": "3.7.1"
  }
 },
 "nbformat": 4,
 "nbformat_minor": 2
}
